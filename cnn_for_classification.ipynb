{
  "cells": [
    {
      "cell_type": "markdown",
      "metadata": {
        "id": "57bgKwWjqwT3"
      },
      "source": [
        "\n",
        "\n",
        "# Сверточная модель для решения задачи классификации\n",
        "\n"
      ]
    },
    {
      "cell_type": "code",
      "execution_count": null,
      "metadata": {
        "id": "fDqLmdgwDJIW"
      },
      "outputs": [],
      "source": []
    },
    {
      "cell_type": "code",
      "execution_count": null,
      "metadata": {
        "id": "KMEKrKnlDJIX"
      },
      "outputs": [],
      "source": []
    },
    {
      "cell_type": "code",
      "execution_count": null,
      "metadata": {
        "id": "1qBYO5L6DJIY"
      },
      "outputs": [],
      "source": [
        "# После выполнения первых двух ячеек нужно сделать перезапуск сеанса в Collab,\n",
        "# Иначе numpy будет выдавать ошибку"
      ]
    },
    {
      "cell_type": "code",
      "execution_count": null,
      "metadata": {
        "id": "kuFVxwY2AThq"
      },
      "outputs": [],
      "source": [
        "import torch as pt\n",
        "from torch import nn\n",
        "from torch.utils.data import Dataset, DataLoader\n",
        "from torchsummary import summary\n",
        "\n",
        "import librosa\n",
        "\n",
        "import numpy as np\n",
        "import matplotlib.pyplot as plt\n",
        "\n",
        "import sys\n",
        "import random\n",
        "import os\n",
        "import tqdm as tqdm\n",
        "import time"
      ]
    },
    {
      "cell_type": "code",
      "execution_count": null,
      "metadata": {
        "colab": {
          "base_uri": "https://localhost:8080/"
        },
        "id": "YstThVrTh0RH",
        "outputId": "f46b0f7c-1f95-4fe8-daca-34496db538de"
      },
      "outputs": [
        {
          "output_type": "stream",
          "name": "stdout",
          "text": [
            "Drive already mounted at /content/drive; to attempt to forcibly remount, call drive.mount(\"/content/drive\", force_remount=True).\n"
          ]
        }
      ],
      "source": [
        "from google.colab import drive\n",
        "drive.mount('/content/drive')"
      ]
    },
    {
      "cell_type": "code",
      "execution_count": null,
      "metadata": {
        "id": "9vIN4RlupeMI"
      },
      "outputs": [],
      "source": [
        "# Используем кэширование, чтобы спектрограммы для входных файлов считались один раз\n",
        "from joblib import Memory\n",
        "cachedir = '/content/cache/'\n",
        "memory = Memory(cachedir, verbose=0, compress=True)\n",
        "memory.clear(warn=False)"
      ]
    },
    {
      "cell_type": "code",
      "execution_count": null,
      "metadata": {
        "id": "tebWKiorhOOy"
      },
      "outputs": [],
      "source": [
        "# Для воспроизводимости результатов\n",
        "random_seed = 42\n",
        "\n",
        "random.seed(random_seed)\n",
        "np.random.seed(random_seed)\n",
        "pt.manual_seed(random_seed)\n",
        "pt.cuda.manual_seed(random_seed)\n",
        "pt.cuda.manual_seed_all(random_seed)\n",
        "pt.backends.cudnn.deterministic = True"
      ]
    },
    {
      "cell_type": "code",
      "execution_count": null,
      "metadata": {
        "id": "q0q_z8jNTYAo"
      },
      "outputs": [],
      "source": [
        "if pt.cuda.is_available():\n",
        "    device = 'cuda'\n",
        "else:\n",
        "    device = 'cpu'"
      ]
    },
    {
      "cell_type": "code",
      "execution_count": null,
      "metadata": {
        "colab": {
          "base_uri": "https://localhost:8080/",
          "height": 35
        },
        "id": "SFq7LXhnTdoi",
        "outputId": "cd37b45c-844f-42ca-bb02-273782bfa1a9"
      },
      "outputs": [
        {
          "output_type": "execute_result",
          "data": {
            "text/plain": [
              "'cuda'"
            ],
            "application/vnd.google.colaboratory.intrinsic+json": {
              "type": "string"
            }
          },
          "metadata": {},
          "execution_count": 406
        }
      ],
      "source": [
        "device"
      ]
    },
    {
      "cell_type": "code",
      "execution_count": null,
      "metadata": {
        "colab": {
          "base_uri": "https://localhost:8080/"
        },
        "id": "h3hRCi-oiRi3",
        "outputId": "2b2aec16-05eb-45a7-d3fd-da9732e0e12e"
      },
      "outputs": [
        {
          "output_type": "stream",
          "name": "stdout",
          "text": [
            "Archive:  drive/MyDrive/AudioDataset_Classification.zip\n"
          ]
        }
      ],
      "source": [
        "!unzip -u \"drive/MyDrive/AudioDataset_Classification.zip\" -d \"/content/dataset\""
      ]
    },
    {
      "cell_type": "code",
      "execution_count": null,
      "metadata": {
        "id": "Dcr6SLb_QMN4"
      },
      "outputs": [],
      "source": [
        "dataset_directory = '/content/dataset/AudioDataset_Classification'\n",
        "duration = 0.5  # Загружаем по 0,5 секунд из каждого файла\n",
        "\n",
        "classes_list = [\"Background\", \"Bebop\", \"HolyStone\", \"Mambo\", \"Mavic\", \"MJX\", \"Race\", \"X5\", \"ZLRC\"]\n",
        "\n",
        "BATCH_SIZE = 128\n",
        "NUM_EPOCHS = 10"
      ]
    },
    {
      "cell_type": "code",
      "execution_count": null,
      "metadata": {
        "id": "I3zcTmIWXU6U"
      },
      "outputs": [],
      "source": [
        "@memory.cache\n",
        "def preprocess_file(filename, duration):\n",
        "    # Загружаем только первые duration секунд\n",
        "    waveform, sr = librosa.load(filename, sr=16_000, offset=0.0, duration=duration)\n",
        "    waveform = normalize(waveform)\n",
        "\n",
        "    waveform = melspectrogram(waveform, sr)\n",
        "    return waveform\n",
        "\n",
        "# Функция приведения сигнала к нулевому среднему и единичной дисперсии\n",
        "def normalize(waveform):\n",
        "\n",
        "    s = waveform.astype(np.float32) - np.mean(waveform)\n",
        "    std = np.std(s)\n",
        "    s = s / std\n",
        "\n",
        "    return s\n",
        "\n",
        "# Функция построения мелспектрограммы\n",
        "def melspectrogram(waveform, sr):\n",
        "\n",
        "    librosa_melspectrogram = librosa.feature.melspectrogram(y=waveform, sr=sr, n_fft=512, hop_length=256, n_mels=64, pad_mode='constant')\n",
        "    return librosa_melspectrogram\n",
        "\n",
        "\n",
        "# Класс датасета для загрузки данных\n",
        "class DroneDataset(Dataset):\n",
        "\n",
        "    def __init__(self, dataset_dir, duration, device):\n",
        "\n",
        "        files_list = []\n",
        "\n",
        "        for i in range(len(classes_list)):\n",
        "            drone_files = os.listdir(os.path.join(os.path.realpath(dataset_dir), classes_list[i]))\n",
        "            for filename in drone_files:\n",
        "                if filename.endswith(\".wav\"):\n",
        "                    fname = os.path.join(os.path.realpath(dataset_dir), classes_list[i], filename)\n",
        "                    y, sr = librosa.load(fname, sr=16_000, offset=0.0, duration=duration)\n",
        "                    # На случай того, что датасет не вычищен, проверяем корректность аудио\n",
        "                    if librosa.util.valid_audio(y) and not all(x==y[0] for x in y):\n",
        "                        label = i\n",
        "                        files_list.append((fname, label))\n",
        "\n",
        "        self.datalist = files_list\n",
        "        self.duration = duration\n",
        "        self.device = device\n",
        "\n",
        "\n",
        "    def __len__(self):\n",
        "        return len(self.datalist)\n",
        "\n",
        "    def __getitem__(self, idx):\n",
        "        waveform = preprocess_file(self.datalist[idx][0], self.duration)\n",
        "        waveform = pt.from_numpy(np.expand_dims(waveform, axis=0))\n",
        "        waveform = waveform.to(device)\n",
        "        return waveform, float(self.datalist[idx][1])"
      ]
    },
    {
      "cell_type": "code",
      "execution_count": null,
      "metadata": {
        "id": "1fRelfhFvoo8"
      },
      "outputs": [],
      "source": [
        "all_dataset = DroneDataset(dataset_directory, duration, device)"
      ]
    },
    {
      "cell_type": "code",
      "execution_count": null,
      "metadata": {
        "id": "-YNCizyxwnSi"
      },
      "outputs": [],
      "source": [
        "total_count = len(all_dataset)\n",
        "\n",
        "train_count = int(0.7 * total_count)\n",
        "valid_count = int(0.1 * total_count)\n",
        "test_count = total_count - train_count - valid_count\n",
        "train_dataset, val_dataset, test_dataset = pt.utils.data.random_split(\n",
        "    all_dataset, (train_count, valid_count, test_count)\n",
        ")"
      ]
    },
    {
      "cell_type": "code",
      "execution_count": null,
      "metadata": {
        "id": "xI6BWoXBCt6X"
      },
      "outputs": [],
      "source": [
        "train_data_size = len(train_dataset)\n",
        "val_data_size = len(val_dataset)\n",
        "test_data_size = len(test_dataset)"
      ]
    },
    {
      "cell_type": "code",
      "source": [],
      "metadata": {
        "id": "qD5IRykHlONC"
      },
      "execution_count": null,
      "outputs": []
    },
    {
      "cell_type": "code",
      "execution_count": null,
      "metadata": {
        "colab": {
          "base_uri": "https://localhost:8080/"
        },
        "id": "8KTAcPU6NRvL",
        "outputId": "896b1661-ad61-4d50-bd5b-b8fc766a536d"
      },
      "outputs": [
        {
          "output_type": "stream",
          "name": "stdout",
          "text": [
            "45167 6452 12906\n"
          ]
        }
      ],
      "source": [
        "print(train_data_size, val_data_size, test_data_size)"
      ]
    },
    {
      "cell_type": "code",
      "execution_count": null,
      "metadata": {
        "id": "LaQrvvWuCt6Y"
      },
      "outputs": [],
      "source": [
        "train_dataloader = DataLoader(train_dataset, batch_size=BATCH_SIZE, shuffle=True)\n",
        "val_dataloader = DataLoader(val_dataset, batch_size=BATCH_SIZE, shuffle=True)\n",
        "test_dataloader = DataLoader(test_dataset, batch_size=BATCH_SIZE, shuffle=True)"
      ]
    },
    {
      "cell_type": "code",
      "execution_count": null,
      "metadata": {
        "id": "pEJu5H3KXUNm"
      },
      "outputs": [],
      "source": [
        "class CNNNetwork(nn.Module):\n",
        "\n",
        "    def __init__(self):\n",
        "        super().__init__()\n",
        "        self.conv1 = nn.Sequential(\n",
        "            nn.Conv2d(in_channels=1, out_channels=32, kernel_size=3, stride=1, padding=1),\n",
        "            nn.LeakyReLU(),\n",
        "            nn.Dropout(p=0.2)\n",
        "        )\n",
        "        self.conv2 = nn.Sequential(\n",
        "            nn.Conv2d(in_channels=32, out_channels=32, kernel_size=3, stride=1, padding=1),\n",
        "            nn.LeakyReLU(),\n",
        "            nn.MaxPool2d(kernel_size=2)\n",
        "        )\n",
        "        self.conv3 = nn.Sequential(\n",
        "            nn.Conv2d(in_channels=32, out_channels=64, kernel_size=3, stride=1, padding=1),\n",
        "            nn.LeakyReLU(),\n",
        "            nn.Dropout(p=0.2)\n",
        "        )\n",
        "        self.conv4 = nn.Sequential(\n",
        "            nn.Conv2d(in_channels=64, out_channels=64, kernel_size=3, stride=1, padding=1),\n",
        "            nn.LeakyReLU(),\n",
        "            nn.MaxPool2d(kernel_size=2)\n",
        "        )\n",
        "        self.conv5 = nn.Sequential(\n",
        "            nn.Conv2d(in_channels=64, out_channels=128, kernel_size=3, stride=1, padding=1),\n",
        "            nn.LeakyReLU(),\n",
        "            nn.Dropout(p=0.2)\n",
        "        )\n",
        "        self.conv6 = nn.Sequential(\n",
        "            nn.Conv2d(in_channels=128, out_channels=128, kernel_size=3, stride=1, padding=1),\n",
        "            nn.LeakyReLU(),\n",
        "            nn.MaxPool2d(kernel_size=2)\n",
        "        )\n",
        "        self.conv7 = nn.Sequential(\n",
        "            nn.Conv2d(in_channels=128, out_channels=256, kernel_size=3, stride=1, padding=1),\n",
        "            nn.LeakyReLU(),\n",
        "            nn.Dropout(p=0.2)\n",
        "        )\n",
        "        self.conv8 = nn.Sequential(\n",
        "            nn.Conv2d(in_channels=256, out_channels=256, kernel_size=3, stride=1, padding=1),\n",
        "            nn.LeakyReLU(),\n",
        "            nn.MaxPool2d(kernel_size=2)\n",
        "        )\n",
        "        self.flatten = nn.Flatten()\n",
        "        self.drop1 = nn.Dropout(p=0.2)\n",
        "        self.linear1 = nn.Linear(in_features=4096, out_features=1024)\n",
        "        self.drop2 = nn.Dropout(p=0.2)\n",
        "        self.linear2 = nn.Linear(in_features=1024, out_features=512)\n",
        "        self.drop3 = nn.Dropout(p=0.2)\n",
        "        self.linear3 = nn.Linear(in_features=512, out_features=len(classes_list))\n",
        "        self.logSoftmax = nn.LogSoftmax(dim=1)\n",
        "\n",
        "    def forward(self, input_data):\n",
        "        x = self.conv1(input_data)\n",
        "        x = self.conv2(x)\n",
        "        x = self.conv3(x)\n",
        "        x = self.conv4(x)\n",
        "        x = self.conv5(x)\n",
        "        x = self.conv6(x)\n",
        "        x = self.flatten(x)\n",
        "        x = self.drop1(x)\n",
        "        x = self.linear1(x)\n",
        "        x = self.drop2(x)\n",
        "        x = self.linear2(x)\n",
        "        x = self.drop3(x)\n",
        "        x = self.linear3(x)\n",
        "        output = self.logSoftmax(x)\n",
        "\n",
        "        return output\n",
        "\n",
        "model = CNNNetwork().to(device)"
      ]
    },
    {
      "cell_type": "code",
      "execution_count": null,
      "metadata": {
        "colab": {
          "base_uri": "https://localhost:8080/"
        },
        "id": "NtOl9y6NhOO4",
        "outputId": "45c434d0-55d7-4293-e0f1-932d3418d9fc"
      },
      "outputs": [
        {
          "output_type": "stream",
          "name": "stdout",
          "text": [
            "----------------------------------------------------------------\n",
            "        Layer (type)               Output Shape         Param #\n",
            "================================================================\n",
            "            Conv2d-1           [-1, 32, 64, 32]             320\n",
            "         LeakyReLU-2           [-1, 32, 64, 32]               0\n",
            "           Dropout-3           [-1, 32, 64, 32]               0\n",
            "            Conv2d-4           [-1, 32, 64, 32]           9,248\n",
            "         LeakyReLU-5           [-1, 32, 64, 32]               0\n",
            "         MaxPool2d-6           [-1, 32, 32, 16]               0\n",
            "            Conv2d-7           [-1, 64, 32, 16]          18,496\n",
            "         LeakyReLU-8           [-1, 64, 32, 16]               0\n",
            "           Dropout-9           [-1, 64, 32, 16]               0\n",
            "           Conv2d-10           [-1, 64, 32, 16]          36,928\n",
            "        LeakyReLU-11           [-1, 64, 32, 16]               0\n",
            "        MaxPool2d-12            [-1, 64, 16, 8]               0\n",
            "           Conv2d-13           [-1, 128, 16, 8]          73,856\n",
            "        LeakyReLU-14           [-1, 128, 16, 8]               0\n",
            "          Dropout-15           [-1, 128, 16, 8]               0\n",
            "           Conv2d-16           [-1, 128, 16, 8]         147,584\n",
            "        LeakyReLU-17           [-1, 128, 16, 8]               0\n",
            "        MaxPool2d-18            [-1, 128, 8, 4]               0\n",
            "          Flatten-19                 [-1, 4096]               0\n",
            "          Dropout-20                 [-1, 4096]               0\n",
            "           Linear-21                 [-1, 1024]       4,195,328\n",
            "          Dropout-22                 [-1, 1024]               0\n",
            "           Linear-23                  [-1, 512]         524,800\n",
            "          Dropout-24                  [-1, 512]               0\n",
            "           Linear-25                    [-1, 9]           4,617\n",
            "       LogSoftmax-26                    [-1, 9]               0\n",
            "================================================================\n",
            "Total params: 5,011,177\n",
            "Trainable params: 5,011,177\n",
            "Non-trainable params: 0\n",
            "----------------------------------------------------------------\n",
            "Input size (MB): 0.01\n",
            "Forward/backward pass size (MB): 4.68\n",
            "Params size (MB): 19.12\n",
            "Estimated Total Size (MB): 23.80\n",
            "----------------------------------------------------------------\n"
          ]
        }
      ],
      "source": [
        "summary(model, (1, 64, 32))"
      ]
    },
    {
      "cell_type": "code",
      "execution_count": null,
      "metadata": {
        "id": "tOHeeRr9Ct6Z"
      },
      "outputs": [],
      "source": [
        "loss_func = nn.NLLLoss()\n",
        "optimizer = pt.optim.Adam(model.parameters(), lr=0.0001)"
      ]
    },
    {
      "cell_type": "code",
      "execution_count": null,
      "metadata": {
        "id": "iXQt6qfEQL9X"
      },
      "outputs": [],
      "source": [
        "# Функция обучения и валидации\n",
        "def train_and_validate(model, loss_criterion, optimizer, epochs=5):\n",
        "\n",
        "    history = []\n",
        "    best_loss = 100000.0\n",
        "    best_epoch = None\n",
        "\n",
        "    for epoch in range(epochs):\n",
        "        epoch_start = time.time()\n",
        "        print(\"Epoch: {}/{}\".format(epoch + 1, epochs))\n",
        "\n",
        "        model.train()\n",
        "\n",
        "        train_loss = 0.0\n",
        "        train_acc = 0.0\n",
        "\n",
        "        valid_loss = 0.0\n",
        "        valid_acc = 0.0\n",
        "\n",
        "        for i, (inputs, labels) in enumerate(train_dataloader):\n",
        "\n",
        "            inputs = inputs.to(device)\n",
        "            labels = labels.to(device)\n",
        "\n",
        "            optimizer.zero_grad()\n",
        "\n",
        "            outputs = model(inputs)\n",
        "            outputs = outputs.squeeze(-1)\n",
        "\n",
        "            loss = loss_criterion(outputs.float(), labels.to(pt.int64))\n",
        "            loss.backward()\n",
        "\n",
        "            optimizer.step()\n",
        "\n",
        "            train_loss += loss.item() * inputs.size(0)\n",
        "\n",
        "            ret, predictions = pt.max(outputs.data, 1)\n",
        "            correct_counts = predictions.eq(labels.data.view_as(predictions))\n",
        "\n",
        "            acc = pt.mean(correct_counts.type(pt.FloatTensor))\n",
        "            train_acc += acc.item() * inputs.size(0)\n",
        "\n",
        "        # Валидация\n",
        "        with pt.no_grad():\n",
        "\n",
        "            model.eval()\n",
        "\n",
        "            for j, (inputs, labels) in enumerate(val_dataloader):\n",
        "                inputs = inputs.to(device)\n",
        "                labels = labels.to(device)\n",
        "\n",
        "                outputs = model(inputs)\n",
        "                outputs = outputs.squeeze(-1)\n",
        "\n",
        "                loss = loss_criterion(outputs.float(), labels.to(pt.int64))\n",
        "                valid_loss += loss.item() * inputs.size(0)\n",
        "\n",
        "                ret, predictions = pt.max(outputs.data, 1)\n",
        "                correct_counts = predictions.eq(labels.data.view_as(predictions))\n",
        "\n",
        "                acc = pt.mean(correct_counts.type(pt.FloatTensor))\n",
        "                valid_acc += acc.item() * inputs.size(0)\n",
        "\n",
        "        if valid_loss < best_loss:\n",
        "            best_loss = valid_loss\n",
        "            best_epoch = epoch\n",
        "\n",
        "        # Находим средние loss и accuracy на обучающей выборке\n",
        "        avg_train_loss = train_loss / train_data_size\n",
        "        avg_train_acc = train_acc / train_data_size\n",
        "\n",
        "        # Находим средние loss и accuracy на валидационной выборке\n",
        "        avg_valid_loss = valid_loss / val_data_size\n",
        "        avg_valid_acc = valid_acc / val_data_size\n",
        "\n",
        "        history.append([avg_train_loss, avg_valid_loss, avg_train_acc, avg_valid_acc])\n",
        "\n",
        "        epoch_end = time.time()\n",
        "\n",
        "        print(\"Epoch : {:03d}, Training: Loss - {:.5f}, Accuracy - {:.5f}, \\n\\t\\tValidation : Loss - {:.5f}, Accuracy - {:.5f}, Time: {:.5f}s\".format(epoch, avg_train_loss, avg_train_acc, avg_valid_loss, avg_valid_acc, epoch_end - epoch_start))\n",
        "\n",
        "        # Сохраняем модель\n",
        "        pt.save(model, 'CNN_classify_model_' + str(epoch) + '.pt')\n",
        "\n",
        "    return model, history, best_epoch"
      ]
    },
    {
      "cell_type": "code",
      "execution_count": null,
      "metadata": {
        "colab": {
          "base_uri": "https://localhost:8080/"
        },
        "id": "1m2_pknnQL4Z",
        "outputId": "b8def40f-c8d3-4a11-be97-1c67e5f02a76"
      },
      "outputs": [
        {
          "output_type": "stream",
          "name": "stdout",
          "text": [
            "Epoch: 1/10\n",
            "Epoch : 000, Training: Loss - 0.66808, Accuracy - 0.74813, \n",
            "\t\tValidation : Loss - 0.37910, Accuracy - 0.87415, Time: 274.87559s\n",
            "Epoch: 2/10\n",
            "Epoch : 001, Training: Loss - 0.30337, Accuracy - 0.90303, \n",
            "\t\tValidation : Loss - 0.23055, Accuracy - 0.92498, Time: 45.45256s\n",
            "Epoch: 3/10\n",
            "Epoch : 002, Training: Loss - 0.19427, Accuracy - 0.94140, \n",
            "\t\tValidation : Loss - 0.15912, Accuracy - 0.94885, Time: 45.26832s\n",
            "Epoch: 4/10\n",
            "Epoch : 003, Training: Loss - 0.12955, Accuracy - 0.96123, \n",
            "\t\tValidation : Loss - 0.10132, Accuracy - 0.96606, Time: 44.43755s\n",
            "Epoch: 5/10\n",
            "Epoch : 004, Training: Loss - 0.09830, Accuracy - 0.97093, \n",
            "\t\tValidation : Loss - 0.09774, Accuracy - 0.97086, Time: 44.56580s\n",
            "Epoch: 6/10\n",
            "Epoch : 005, Training: Loss - 0.08151, Accuracy - 0.97536, \n",
            "\t\tValidation : Loss - 0.06767, Accuracy - 0.97954, Time: 44.14734s\n",
            "Epoch: 7/10\n",
            "Epoch : 006, Training: Loss - 0.06639, Accuracy - 0.98032, \n",
            "\t\tValidation : Loss - 0.06064, Accuracy - 0.98156, Time: 44.18269s\n",
            "Epoch: 8/10\n",
            "Epoch : 007, Training: Loss - 0.05964, Accuracy - 0.98187, \n",
            "\t\tValidation : Loss - 0.05959, Accuracy - 0.98202, Time: 44.77353s\n",
            "Epoch: 9/10\n",
            "Epoch : 008, Training: Loss - 0.05253, Accuracy - 0.98355, \n",
            "\t\tValidation : Loss - 0.06830, Accuracy - 0.97892, Time: 44.03149s\n",
            "Epoch: 10/10\n",
            "Epoch : 009, Training: Loss - 0.04354, Accuracy - 0.98623, \n",
            "\t\tValidation : Loss - 0.03759, Accuracy - 0.98900, Time: 43.95180s\n"
          ]
        }
      ],
      "source": [
        "trained_model, history, best_epoch = train_and_validate(model, loss_func, optimizer, NUM_EPOCHS)"
      ]
    },
    {
      "cell_type": "code",
      "execution_count": null,
      "metadata": {
        "colab": {
          "base_uri": "https://localhost:8080/"
        },
        "id": "qvpi-XABqEqr",
        "outputId": "a3969c25-fd1e-4f2c-c044-b767df4b0294"
      },
      "outputs": [
        {
          "output_type": "execute_result",
          "data": {
            "text/plain": [
              "9"
            ]
          },
          "metadata": {},
          "execution_count": 420
        }
      ],
      "source": [
        "# Лучшая эпоха на основании Loss'а на валидационной выборке\n",
        "best_epoch"
      ]
    },
    {
      "cell_type": "code",
      "execution_count": null,
      "metadata": {
        "id": "aMxxu6pvqy1B"
      },
      "outputs": [],
      "source": [
        "best_model = pt.load(f\"CNN_classify_model_{best_epoch}.pt\", weights_only=False)"
      ]
    },
    {
      "cell_type": "code",
      "execution_count": null,
      "metadata": {
        "id": "yYNUPTB-6qye"
      },
      "outputs": [],
      "source": [
        "pt.save(best_model, 'drive/My Drive/CNN_classify_model_' + str(best_epoch) + '.pt')"
      ]
    },
    {
      "cell_type": "code",
      "execution_count": null,
      "metadata": {
        "colab": {
          "base_uri": "https://localhost:8080/",
          "height": 455
        },
        "id": "kb2_8LClCt6b",
        "outputId": "d2eaade6-239d-4c2e-82eb-98621a032bc1"
      },
      "outputs": [
        {
          "output_type": "display_data",
          "data": {
            "text/plain": [
              "<Figure size 640x480 with 1 Axes>"
            ],
            "image/png": "[encoded data removed]"
          },
          "metadata": {}
        }
      ],
      "source": [
        "history = np.array(history)\n",
        "plt.plot(history[:, 0:2])\n",
        "plt.legend(['Train Loss', 'Validation Loss'])\n",
        "plt.xlabel('Epoch Number')\n",
        "plt.ylabel('Loss')\n",
        "plt.ylim(0, 1)\n",
        "plt.savefig('loss_curve.png')\n",
        "plt.show()"
      ]
    },
    {
      "cell_type": "code",
      "execution_count": null,
      "metadata": {
        "colab": {
          "base_uri": "https://localhost:8080/",
          "height": 455
        },
        "id": "Fcdcq-7VCt6b",
        "outputId": "552dbd80-e3dc-4a2e-bbd4-10e9d15f9e73"
      },
      "outputs": [
        {
          "output_type": "display_data",
          "data": {
            "text/plain": [
              "<Figure size 640x480 with 1 Axes>"
            ],
            "image/png": "[encoded data removed]"
          },
          "metadata": {}
        }
      ],
      "source": [
        "plt.plot(history[:, 2:4])\n",
        "plt.legend(['Train Accuracy', 'Validation Accuracy'])\n",
        "plt.xlabel('Epoch Number')\n",
        "plt.ylabel('Accuracy')\n",
        "plt.ylim(0.5, 1)\n",
        "plt.savefig('accuracy_curve.png')\n",
        "plt.show()"
      ]
    },
    {
      "cell_type": "code",
      "execution_count": null,
      "metadata": {
        "id": "-YVDnFB2TSWk"
      },
      "outputs": [],
      "source": [
        "true_labels = []\n",
        "pred_labels = []\n",
        "\n",
        "# Функция расчета качества на тестовом датасете\n",
        "def computeTestSetAccuracy(model, loss_criterion):\n",
        "\n",
        "    test_acc = 0.0\n",
        "    test_loss = 0.0\n",
        "\n",
        "    # Валидация\n",
        "    with pt.no_grad():\n",
        "\n",
        "        model.eval()\n",
        "\n",
        "        for j, (inputs, labels) in enumerate(test_dataloader):\n",
        "            inputs = inputs.to(device)\n",
        "            labels = labels.to(device)\n",
        "\n",
        "            outputs = model(inputs)\n",
        "            outputs = outputs.squeeze(-1)\n",
        "\n",
        "            loss = loss_criterion(outputs.float(), labels.to(pt.int64))\n",
        "            test_loss += loss.item() * inputs.size(0)\n",
        "\n",
        "            ret, predictions = pt.max(outputs.data, 1)\n",
        "            correct_counts = predictions.eq(labels.data.view_as(predictions))\n",
        "\n",
        "            acc = pt.mean(correct_counts.type(pt.FloatTensor))\n",
        "            test_acc += acc.item() * inputs.size(0)\n",
        "\n",
        "            # Для подсчета остальных метрик в sklearn,\n",
        "            # сохраним истинные и предсказанные значения\n",
        "            true_labels.extend(labels.cpu().detach().numpy().astype(int).tolist())\n",
        "            pred_labels.extend(predictions.cpu().detach().numpy().astype(int).tolist())\n",
        "\n",
        "            print(\"Test Batch number: {:03d}, Test: Loss: {:.5f}, Accuracy: {:.5f}\".format(j, loss.item(), acc.item()))\n",
        "\n",
        "    # Находим средние loss и accuracy на тестовой выборке\n",
        "    avg_test_loss = test_loss / test_data_size\n",
        "    avg_test_acc = test_acc / test_data_size\n",
        "\n",
        "    print(\"Test accuracy : \" + str(avg_test_acc))\n",
        "    print(\"Test loss : \" + str(avg_test_loss))"
      ]
    },
    {
      "cell_type": "code",
      "execution_count": null,
      "metadata": {
        "colab": {
          "base_uri": "https://localhost:8080/"
        },
        "id": "O761bCCnTSPi",
        "outputId": "1710e805-dc53-493a-f9a4-c1c91bc2e2a9"
      },
      "outputs": [
        {
          "output_type": "stream",
          "name": "stdout",
          "text": [
            "Test Batch number: 000, Test: Loss: 0.07185, Accuracy: 0.98438\n",
            "Test Batch number: 001, Test: Loss: 0.00433, Accuracy: 1.00000\n",
            "Test Batch number: 002, Test: Loss: 0.08570, Accuracy: 0.98438\n",
            "Test Batch number: 003, Test: Loss: 0.04209, Accuracy: 0.99219\n",
            "Test Batch number: 004, Test: Loss: 0.08645, Accuracy: 0.98438\n",
            "Test Batch number: 005, Test: Loss: 0.01532, Accuracy: 0.99219\n",
            "Test Batch number: 006, Test: Loss: 0.01857, Accuracy: 0.99219\n",
            "Test Batch number: 007, Test: Loss: 0.05865, Accuracy: 0.97656\n",
            "Test Batch number: 008, Test: Loss: 0.07301, Accuracy: 0.96875\n",
            "Test Batch number: 009, Test: Loss: 0.04127, Accuracy: 0.98438\n",
            "Test Batch number: 010, Test: Loss: 0.04429, Accuracy: 0.99219\n",
            "Test Batch number: 011, Test: Loss: 0.15998, Accuracy: 0.97656\n",
            "Test Batch number: 012, Test: Loss: 0.06291, Accuracy: 0.96875\n",
            "Test Batch number: 013, Test: Loss: 0.07436, Accuracy: 0.97656\n",
            "Test Batch number: 014, Test: Loss: 0.01910, Accuracy: 0.99219\n",
            "Test Batch number: 015, Test: Loss: 0.00888, Accuracy: 1.00000\n",
            "Test Batch number: 016, Test: Loss: 0.02367, Accuracy: 1.00000\n",
            "Test Batch number: 017, Test: Loss: 0.05182, Accuracy: 0.97656\n",
            "Test Batch number: 018, Test: Loss: 0.06550, Accuracy: 0.98438\n",
            "Test Batch number: 019, Test: Loss: 0.02894, Accuracy: 0.99219\n",
            "Test Batch number: 020, Test: Loss: 0.02176, Accuracy: 0.99219\n",
            "Test Batch number: 021, Test: Loss: 0.12303, Accuracy: 0.97656\n",
            "Test Batch number: 022, Test: Loss: 0.02567, Accuracy: 0.99219\n",
            "Test Batch number: 023, Test: Loss: 0.07341, Accuracy: 0.98438\n",
            "Test Batch number: 024, Test: Loss: 0.01810, Accuracy: 1.00000\n",
            "Test Batch number: 025, Test: Loss: 0.03924, Accuracy: 0.99219\n",
            "Test Batch number: 026, Test: Loss: 0.03659, Accuracy: 0.99219\n",
            "Test Batch number: 027, Test: Loss: 0.08299, Accuracy: 0.96875\n",
            "Test Batch number: 028, Test: Loss: 0.01950, Accuracy: 1.00000\n",
            "Test Batch number: 029, Test: Loss: 0.01987, Accuracy: 0.99219\n",
            "Test Batch number: 030, Test: Loss: 0.03879, Accuracy: 0.98438\n",
            "Test Batch number: 031, Test: Loss: 0.02206, Accuracy: 0.99219\n",
            "Test Batch number: 032, Test: Loss: 0.01860, Accuracy: 0.99219\n",
            "Test Batch number: 033, Test: Loss: 0.04462, Accuracy: 0.98438\n",
            "Test Batch number: 034, Test: Loss: 0.04133, Accuracy: 0.99219\n",
            "Test Batch number: 035, Test: Loss: 0.02301, Accuracy: 0.99219\n",
            "Test Batch number: 036, Test: Loss: 0.03441, Accuracy: 0.98438\n",
            "Test Batch number: 037, Test: Loss: 0.13386, Accuracy: 0.99219\n",
            "Test Batch number: 038, Test: Loss: 0.01259, Accuracy: 1.00000\n",
            "Test Batch number: 039, Test: Loss: 0.01297, Accuracy: 1.00000\n",
            "Test Batch number: 040, Test: Loss: 0.00735, Accuracy: 1.00000\n",
            "Test Batch number: 041, Test: Loss: 0.10384, Accuracy: 0.97656\n",
            "Test Batch number: 042, Test: Loss: 0.02671, Accuracy: 0.98438\n",
            "Test Batch number: 043, Test: Loss: 0.05547, Accuracy: 0.98438\n",
            "Test Batch number: 044, Test: Loss: 0.02498, Accuracy: 0.99219\n",
            "Test Batch number: 045, Test: Loss: 0.09508, Accuracy: 0.98438\n",
            "Test Batch number: 046, Test: Loss: 0.03425, Accuracy: 0.99219\n",
            "Test Batch number: 047, Test: Loss: 0.01723, Accuracy: 1.00000\n",
            "Test Batch number: 048, Test: Loss: 0.02494, Accuracy: 0.99219\n",
            "Test Batch number: 049, Test: Loss: 0.06491, Accuracy: 0.97656\n",
            "Test Batch number: 050, Test: Loss: 0.01365, Accuracy: 1.00000\n",
            "Test Batch number: 051, Test: Loss: 0.01925, Accuracy: 1.00000\n",
            "Test Batch number: 052, Test: Loss: 0.04351, Accuracy: 0.98438\n",
            "Test Batch number: 053, Test: Loss: 0.01659, Accuracy: 1.00000\n",
            "Test Batch number: 054, Test: Loss: 0.02613, Accuracy: 0.99219\n",
            "Test Batch number: 055, Test: Loss: 0.04993, Accuracy: 0.97656\n",
            "Test Batch number: 056, Test: Loss: 0.00671, Accuracy: 1.00000\n",
            "Test Batch number: 057, Test: Loss: 0.01969, Accuracy: 0.99219\n",
            "Test Batch number: 058, Test: Loss: 0.01660, Accuracy: 1.00000\n",
            "Test Batch number: 059, Test: Loss: 0.05558, Accuracy: 0.99219\n",
            "Test Batch number: 060, Test: Loss: 0.01275, Accuracy: 1.00000\n",
            "Test Batch number: 061, Test: Loss: 0.03274, Accuracy: 0.97656\n",
            "Test Batch number: 062, Test: Loss: 0.06844, Accuracy: 0.98438\n",
            "Test Batch number: 063, Test: Loss: 0.04272, Accuracy: 0.99219\n",
            "Test Batch number: 064, Test: Loss: 0.01235, Accuracy: 0.99219\n",
            "Test Batch number: 065, Test: Loss: 0.05038, Accuracy: 0.97656\n",
            "Test Batch number: 066, Test: Loss: 0.03000, Accuracy: 0.99219\n",
            "Test Batch number: 067, Test: Loss: 0.06395, Accuracy: 0.99219\n",
            "Test Batch number: 068, Test: Loss: 0.03992, Accuracy: 0.98438\n",
            "Test Batch number: 069, Test: Loss: 0.03992, Accuracy: 0.98438\n",
            "Test Batch number: 070, Test: Loss: 0.04790, Accuracy: 0.98438\n",
            "Test Batch number: 071, Test: Loss: 0.01986, Accuracy: 0.99219\n",
            "Test Batch number: 072, Test: Loss: 0.05057, Accuracy: 0.98438\n",
            "Test Batch number: 073, Test: Loss: 0.00960, Accuracy: 1.00000\n",
            "Test Batch number: 074, Test: Loss: 0.06488, Accuracy: 0.99219\n",
            "Test Batch number: 075, Test: Loss: 0.06195, Accuracy: 0.96875\n",
            "Test Batch number: 076, Test: Loss: 0.02113, Accuracy: 0.99219\n",
            "Test Batch number: 077, Test: Loss: 0.05681, Accuracy: 0.97656\n",
            "Test Batch number: 078, Test: Loss: 0.01461, Accuracy: 1.00000\n",
            "Test Batch number: 079, Test: Loss: 0.01932, Accuracy: 0.99219\n",
            "Test Batch number: 080, Test: Loss: 0.01145, Accuracy: 0.99219\n",
            "Test Batch number: 081, Test: Loss: 0.09198, Accuracy: 0.96094\n",
            "Test Batch number: 082, Test: Loss: 0.03797, Accuracy: 0.98438\n",
            "Test Batch number: 083, Test: Loss: 0.01522, Accuracy: 1.00000\n",
            "Test Batch number: 084, Test: Loss: 0.06108, Accuracy: 0.98438\n",
            "Test Batch number: 085, Test: Loss: 0.02066, Accuracy: 0.99219\n",
            "Test Batch number: 086, Test: Loss: 0.05881, Accuracy: 0.98438\n",
            "Test Batch number: 087, Test: Loss: 0.02903, Accuracy: 0.99219\n",
            "Test Batch number: 088, Test: Loss: 0.04609, Accuracy: 0.99219\n",
            "Test Batch number: 089, Test: Loss: 0.07403, Accuracy: 0.97656\n",
            "Test Batch number: 090, Test: Loss: 0.07129, Accuracy: 0.97656\n",
            "Test Batch number: 091, Test: Loss: 0.01066, Accuracy: 1.00000\n",
            "Test Batch number: 092, Test: Loss: 0.04985, Accuracy: 0.99219\n",
            "Test Batch number: 093, Test: Loss: 0.02141, Accuracy: 1.00000\n",
            "Test Batch number: 094, Test: Loss: 0.01118, Accuracy: 1.00000\n",
            "Test Batch number: 095, Test: Loss: 0.08464, Accuracy: 0.99219\n",
            "Test Batch number: 096, Test: Loss: 0.04046, Accuracy: 0.98438\n",
            "Test Batch number: 097, Test: Loss: 0.02151, Accuracy: 0.99219\n",
            "Test Batch number: 098, Test: Loss: 0.03312, Accuracy: 0.98438\n",
            "Test Batch number: 099, Test: Loss: 0.03883, Accuracy: 0.98438\n",
            "Test Batch number: 100, Test: Loss: 0.01012, Accuracy: 1.00000\n",
            "Test accuracy : 0.9887649155431583\n",
            "Test loss : 0.0416443347357942\n"
          ]
        }
      ],
      "source": [
        "computeTestSetAccuracy(best_model, loss_func)"
      ]
    },
    {
      "cell_type": "code",
      "execution_count": null,
      "metadata": {
        "colab": {
          "base_uri": "https://localhost:8080/"
        },
        "id": "Ab_w740HTSL3",
        "outputId": "6d100e76-2ad6-4200-d073-55c28541b33d"
      },
      "outputs": [
        {
          "output_type": "stream",
          "name": "stdout",
          "text": [
            "tensor([[8.0231e-06, 2.8014e-09, 2.6703e-09, 9.6794e-08, 9.9957e-01, 8.6884e-07,\n",
            "         6.2389e-07, 4.2156e-04, 1.6948e-08]], device='cuda:0') 4.0\n"
          ]
        }
      ],
      "source": [
        "# Пример выполнения предсказания моделью\n",
        "# Получаем вероятности классов (надо использовать экспоненту, т.к. последний слой - LogSoftmax)\n",
        "waveform, label = test_dataset[0]\n",
        "\n",
        "def predict(model, inputs, labels):\n",
        "    model.eval()\n",
        "    inputs = pt.unsqueeze(inputs, 0)\n",
        "    with pt.no_grad():\n",
        "        out = model(inputs)\n",
        "        probas = pt.exp(out)\n",
        "    return probas, labels\n",
        "\n",
        "prediction, label = predict(model,waveform,label)\n",
        "print(prediction, label)"
      ]
    },
    {
      "cell_type": "code",
      "execution_count": null,
      "metadata": {
        "id": "J5mtov0YvV8S"
      },
      "outputs": [],
      "source": [
        "from sklearn.metrics import accuracy_score, f1_score, precision_score, recall_score, confusion_matrix"
      ]
    },
    {
      "cell_type": "code",
      "execution_count": null,
      "metadata": {
        "colab": {
          "base_uri": "https://localhost:8080/"
        },
        "id": "uGFG-0GrCt6d",
        "outputId": "c180009c-3791-45e9-c87a-91e6089b5219"
      },
      "outputs": [
        {
          "output_type": "stream",
          "name": "stdout",
          "text": [
            "F1: 0.97493\n",
            "Accuracy: 0.98876\n",
            "Precision: 0.98457\n",
            "Recall: 0.96756\n"
          ]
        }
      ],
      "source": [
        "print('F1: {:.5f}'.format(f1_score(true_labels, pred_labels, average=\"macro\")))\n",
        "print('Accuracy: {:.5f}'.format(accuracy_score(true_labels, pred_labels)))\n",
        "print('Precision: {:.5f}'.format(precision_score(true_labels, pred_labels, average=\"macro\")))\n",
        "print('Recall: {:.5f}'.format(recall_score(true_labels, pred_labels, average=\"macro\")))"
      ]
    },
    {
      "cell_type": "code",
      "execution_count": null,
      "metadata": {
        "id": "fyoMQD54SXF-"
      },
      "outputs": [],
      "source": [
        "confmat = confusion_matrix(y_true=true_labels, y_pred=pred_labels)"
      ]
    },
    {
      "cell_type": "code",
      "execution_count": null,
      "metadata": {
        "id": "rKdX7oZTTklG"
      },
      "outputs": [],
      "source": [
        "import matplotlib.pyplot as plt"
      ]
    },
    {
      "cell_type": "code",
      "execution_count": null,
      "metadata": {
        "colab": {
          "base_uri": "https://localhost:8080/",
          "height": 507
        },
        "id": "qx4Uh32kTmMN",
        "outputId": "92e4b0c6-88b5-4c5f-9813-a0802c679786"
      },
      "outputs": [
        {
          "output_type": "display_data",
          "data": {
            "text/plain": [
              "<Figure size 500x500 with 1 Axes>"
            ],
            "image/png": "[encoded data removed]"
          },
          "metadata": {}
        }
      ],
      "source": [
        "fig, ax = plt.subplots(figsize=(5, 5))\n",
        "ax.matshow(confmat, cmap=plt.cm.Blues, alpha=0.3)\n",
        "plt.xticks(range(len(classes_list)), classes_list, rotation='vertical')\n",
        "plt.yticks(range(len(classes_list)), classes_list)\n",
        "\n",
        "for i in range(confmat.shape[0]):\n",
        "    for j in range(confmat.shape[1]):\n",
        "        ax.text(x=j, y=i, s=confmat[i, j],\n",
        "                va='center', ha='center')\n",
        "\n",
        "ax.xaxis.set_ticks_position('bottom')\n",
        "plt.xlabel('Предсказанная метка')\n",
        "plt.ylabel('Истинная метка')\n",
        "plt.tight_layout()\n",
        "plt.show()"
      ]
    },
    {
      "cell_type": "code",
      "execution_count": null,
      "metadata": {
        "id": "JqidOY8oUl1l"
      },
      "outputs": [],
      "source": []
    }
  ],
  "metadata": {
    "accelerator": "GPU",
    "colab": {
      "gpuType": "T4",
      "provenance": []
    },
    "kernelspec": {
      "display_name": "Python 3",
      "name": "python3"
    },
    "language_info": {
      "codemirror_mode": {
        "name": "ipython",
        "version": 3
      },
      "file_extension": ".py",
      "mimetype": "text/x-python",
      "name": "python",
      "nbconvert_exporter": "python",
      "pygments_lexer": "ipython3",
      "version": "3.10.10"
    }
  },
  "nbformat": 4,
  "nbformat_minor": 0
}